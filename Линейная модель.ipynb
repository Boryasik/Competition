{
 "cells": [
  {
   "cell_type": "code",
   "execution_count": 239,
   "metadata": {},
   "outputs": [],
   "source": [
    "import pandas as pd\n",
    " \n",
    "data = pd.read_csv('train.csv')"
   ]
  },
  {
   "cell_type": "code",
   "execution_count": 240,
   "metadata": {},
   "outputs": [
    {
     "name": "stdout",
     "output_type": "stream",
     "text": [
      "<class 'pandas.core.frame.DataFrame'>\n",
      "RangeIndex: 106 entries, 0 to 105\n",
      "Data columns (total 14 columns):\n",
      " #   Column                        Non-Null Count  Dtype  \n",
      "---  ------                        --------------  -----  \n",
      " 0   Target                        106 non-null    int64  \n",
      " 1   Alcohol                       106 non-null    float64\n",
      " 2   Malic acid                    106 non-null    float64\n",
      " 3   Ash                           106 non-null    float64\n",
      " 4   Alcalinity of ash             106 non-null    float64\n",
      " 5   Magnesium                     106 non-null    int64  \n",
      " 6   Total phenols                 106 non-null    float64\n",
      " 7   Flavanoids                    106 non-null    float64\n",
      " 8   Nonflavanoid phenols          106 non-null    float64\n",
      " 9   Proanthocyanins               106 non-null    float64\n",
      " 10  Color intensity               106 non-null    float64\n",
      " 11  Hue                           106 non-null    float64\n",
      " 12  OD280/OD315 of diluted wines  106 non-null    float64\n",
      " 13  Proline                       106 non-null    int64  \n",
      "dtypes: float64(11), int64(3)\n",
      "memory usage: 11.7 KB\n"
     ]
    }
   ],
   "source": [
    "data.info()"
   ]
  },
  {
   "cell_type": "code",
   "execution_count": 241,
   "metadata": {},
   "outputs": [],
   "source": [
    "X = data.drop(\"Target\", axis = 1)\n",
    "y = data[\"Target\"]"
   ]
  },
  {
   "cell_type": "code",
   "execution_count": 242,
   "metadata": {},
   "outputs": [],
   "source": [
    "from sklearn.model_selection import train_test_split\n",
    "from sklearn.pipeline import make_pipeline\n",
    "from sklearn.preprocessing import StandardScaler\n",
    "from sklearn.linear_model import LinearRegression\n",
    "\n",
    "X_train, X_test, y_train, y_test = train_test_split(X, y, random_state=1)"
   ]
  },
  {
   "cell_type": "code",
   "execution_count": 243,
   "metadata": {},
   "outputs": [
    {
     "data": {
      "text/plain": [
       "Pipeline(steps=[('standardscaler', StandardScaler()),\n",
       "                ('linearregression', LinearRegression())])"
      ]
     },
     "execution_count": 243,
     "metadata": {},
     "output_type": "execute_result"
    }
   ],
   "source": [
    "model_learn_reg = make_pipeline(StandardScaler(), LinearRegression())\n",
    "\n",
    "model_learn_reg.fit(X, y)"
   ]
  },
  {
   "cell_type": "code",
   "execution_count": 244,
   "metadata": {},
   "outputs": [],
   "source": [
    "prediction = model_learn_reg.predict(X_test)"
   ]
  },
  {
   "cell_type": "code",
   "execution_count": 245,
   "metadata": {},
   "outputs": [
    {
     "data": {
      "text/html": [
       "<div>\n",
       "<style scoped>\n",
       "    .dataframe tbody tr th:only-of-type {\n",
       "        vertical-align: middle;\n",
       "    }\n",
       "\n",
       "    .dataframe tbody tr th {\n",
       "        vertical-align: top;\n",
       "    }\n",
       "\n",
       "    .dataframe thead th {\n",
       "        text-align: right;\n",
       "    }\n",
       "</style>\n",
       "<table border=\"1\" class=\"dataframe\">\n",
       "  <thead>\n",
       "    <tr style=\"text-align: right;\">\n",
       "      <th></th>\n",
       "      <th>Target</th>\n",
       "    </tr>\n",
       "  </thead>\n",
       "  <tbody>\n",
       "    <tr>\n",
       "      <th>0</th>\n",
       "      <td>2</td>\n",
       "    </tr>\n",
       "    <tr>\n",
       "      <th>1</th>\n",
       "      <td>2</td>\n",
       "    </tr>\n",
       "    <tr>\n",
       "      <th>2</th>\n",
       "      <td>2</td>\n",
       "    </tr>\n",
       "    <tr>\n",
       "      <th>3</th>\n",
       "      <td>1</td>\n",
       "    </tr>\n",
       "    <tr>\n",
       "      <th>4</th>\n",
       "      <td>3</td>\n",
       "    </tr>\n",
       "    <tr>\n",
       "      <th>5</th>\n",
       "      <td>1</td>\n",
       "    </tr>\n",
       "    <tr>\n",
       "      <th>6</th>\n",
       "      <td>1</td>\n",
       "    </tr>\n",
       "    <tr>\n",
       "      <th>7</th>\n",
       "      <td>2</td>\n",
       "    </tr>\n",
       "    <tr>\n",
       "      <th>8</th>\n",
       "      <td>1</td>\n",
       "    </tr>\n",
       "    <tr>\n",
       "      <th>9</th>\n",
       "      <td>1</td>\n",
       "    </tr>\n",
       "    <tr>\n",
       "      <th>10</th>\n",
       "      <td>2</td>\n",
       "    </tr>\n",
       "    <tr>\n",
       "      <th>11</th>\n",
       "      <td>1</td>\n",
       "    </tr>\n",
       "    <tr>\n",
       "      <th>12</th>\n",
       "      <td>1</td>\n",
       "    </tr>\n",
       "    <tr>\n",
       "      <th>13</th>\n",
       "      <td>2</td>\n",
       "    </tr>\n",
       "    <tr>\n",
       "      <th>14</th>\n",
       "      <td>2</td>\n",
       "    </tr>\n",
       "    <tr>\n",
       "      <th>15</th>\n",
       "      <td>1</td>\n",
       "    </tr>\n",
       "    <tr>\n",
       "      <th>16</th>\n",
       "      <td>2</td>\n",
       "    </tr>\n",
       "    <tr>\n",
       "      <th>17</th>\n",
       "      <td>3</td>\n",
       "    </tr>\n",
       "    <tr>\n",
       "      <th>18</th>\n",
       "      <td>3</td>\n",
       "    </tr>\n",
       "    <tr>\n",
       "      <th>19</th>\n",
       "      <td>2</td>\n",
       "    </tr>\n",
       "    <tr>\n",
       "      <th>20</th>\n",
       "      <td>1</td>\n",
       "    </tr>\n",
       "    <tr>\n",
       "      <th>21</th>\n",
       "      <td>2</td>\n",
       "    </tr>\n",
       "    <tr>\n",
       "      <th>22</th>\n",
       "      <td>1</td>\n",
       "    </tr>\n",
       "    <tr>\n",
       "      <th>23</th>\n",
       "      <td>2</td>\n",
       "    </tr>\n",
       "    <tr>\n",
       "      <th>24</th>\n",
       "      <td>2</td>\n",
       "    </tr>\n",
       "    <tr>\n",
       "      <th>25</th>\n",
       "      <td>1</td>\n",
       "    </tr>\n",
       "    <tr>\n",
       "      <th>26</th>\n",
       "      <td>3</td>\n",
       "    </tr>\n",
       "  </tbody>\n",
       "</table>\n",
       "</div>"
      ],
      "text/plain": [
       "    Target\n",
       "0        2\n",
       "1        2\n",
       "2        2\n",
       "3        1\n",
       "4        3\n",
       "5        1\n",
       "6        1\n",
       "7        2\n",
       "8        1\n",
       "9        1\n",
       "10       2\n",
       "11       1\n",
       "12       1\n",
       "13       2\n",
       "14       2\n",
       "15       1\n",
       "16       2\n",
       "17       3\n",
       "18       3\n",
       "19       2\n",
       "20       1\n",
       "21       2\n",
       "22       1\n",
       "23       2\n",
       "24       2\n",
       "25       1\n",
       "26       3"
      ]
     },
     "execution_count": 245,
     "metadata": {},
     "output_type": "execute_result"
    }
   ],
   "source": [
    "y_sets_after_learning = pd.DataFrame({\"Target\": prediction})\n",
    "\n",
    "y_sets_after_learning = y_sets_after_learning.round()\n",
    "\n",
    "y_sets_after_learning.astype({\"Target\": \"Int64\"})"
   ]
  },
  {
   "cell_type": "code",
   "execution_count": 246,
   "metadata": {},
   "outputs": [
    {
     "data": {
      "text/plain": [
       "0.9180366716298862"
      ]
     },
     "execution_count": 246,
     "metadata": {},
     "output_type": "execute_result"
    }
   ],
   "source": [
    "model_learn_reg.score(X_test, y_test)"
   ]
  },
  {
   "cell_type": "code",
   "execution_count": 248,
   "metadata": {},
   "outputs": [],
   "source": [
    "data_test = pd.read_csv('test.csv')"
   ]
  },
  {
   "cell_type": "code",
   "execution_count": 249,
   "metadata": {},
   "outputs": [
    {
     "name": "stdout",
     "output_type": "stream",
     "text": [
      "<class 'pandas.core.frame.DataFrame'>\n",
      "RangeIndex: 72 entries, 0 to 71\n",
      "Data columns (total 14 columns):\n",
      " #   Column                        Non-Null Count  Dtype  \n",
      "---  ------                        --------------  -----  \n",
      " 0   index                         72 non-null     int64  \n",
      " 1   Alcohol                       72 non-null     float64\n",
      " 2   Malic acid                    72 non-null     float64\n",
      " 3   Ash                           72 non-null     float64\n",
      " 4   Alcalinity of ash             72 non-null     float64\n",
      " 5   Magnesium                     72 non-null     int64  \n",
      " 6   Total phenols                 72 non-null     float64\n",
      " 7   Flavanoids                    72 non-null     float64\n",
      " 8   Nonflavanoid phenols          72 non-null     float64\n",
      " 9   Proanthocyanins               72 non-null     float64\n",
      " 10  Color intensity               72 non-null     float64\n",
      " 11  Hue                           72 non-null     float64\n",
      " 12  OD280/OD315 of diluted wines  72 non-null     float64\n",
      " 13  Proline                       72 non-null     int64  \n",
      "dtypes: float64(11), int64(3)\n",
      "memory usage: 8.0 KB\n"
     ]
    }
   ],
   "source": [
    "data_test.info()"
   ]
  },
  {
   "cell_type": "code",
   "execution_count": 250,
   "metadata": {},
   "outputs": [],
   "source": [
    "Test_out = model_learn_reg.predict(data_test.drop(\"index\", axis = 1))\n",
    "data_test_index = pd.DataFrame(data_test[\"index\"])"
   ]
  },
  {
   "cell_type": "code",
   "execution_count": 251,
   "metadata": {},
   "outputs": [
    {
     "data": {
      "text/plain": [
       "array([2.50381725, 3.22182718, 2.05175506, 1.19201187, 1.58614567,\n",
       "       1.79901344, 2.22873787, 3.03928039, 1.37495534, 1.34631501,\n",
       "       2.14681555, 1.63106203, 1.94996857, 1.19384072, 2.20132015,\n",
       "       2.0880744 , 1.20002118, 0.88152967, 1.01959986, 1.68503205,\n",
       "       3.33036775, 1.7032356 , 1.9244515 , 1.92117892, 1.28869164,\n",
       "       2.17223457, 0.76887022, 1.54163195, 2.04757106, 2.73605013,\n",
       "       2.56048874, 1.06745017, 2.07266089, 0.88447445, 1.72824744,\n",
       "       2.94460799, 1.13184747, 2.8611199 , 3.35357537, 1.17520736,\n",
       "       1.83160674, 1.0882371 , 3.06272119, 0.82420204, 1.40532045,\n",
       "       1.45204173, 2.11178434, 2.1965292 , 2.7980892 , 3.10185325,\n",
       "       1.19871437, 3.28932754, 2.21761428, 1.06720236, 2.96817769,\n",
       "       1.96228961, 2.08317401, 2.36002037, 1.10421021, 1.91236872,\n",
       "       0.9694089 , 2.72086135, 2.53815149, 3.28014441, 2.68466796,\n",
       "       1.88085521, 1.47505228, 1.4127373 , 2.29752514, 0.94011085,\n",
       "       3.07434046, 2.08176759])"
      ]
     },
     "execution_count": 251,
     "metadata": {},
     "output_type": "execute_result"
    }
   ],
   "source": [
    "Test_out"
   ]
  },
  {
   "cell_type": "code",
   "execution_count": 252,
   "metadata": {},
   "outputs": [
    {
     "data": {
      "text/html": [
       "<div>\n",
       "<style scoped>\n",
       "    .dataframe tbody tr th:only-of-type {\n",
       "        vertical-align: middle;\n",
       "    }\n",
       "\n",
       "    .dataframe tbody tr th {\n",
       "        vertical-align: top;\n",
       "    }\n",
       "\n",
       "    .dataframe thead th {\n",
       "        text-align: right;\n",
       "    }\n",
       "</style>\n",
       "<table border=\"1\" class=\"dataframe\">\n",
       "  <thead>\n",
       "    <tr style=\"text-align: right;\">\n",
       "      <th></th>\n",
       "      <th>Target</th>\n",
       "    </tr>\n",
       "  </thead>\n",
       "  <tbody>\n",
       "    <tr>\n",
       "      <th>0</th>\n",
       "      <td>3</td>\n",
       "    </tr>\n",
       "    <tr>\n",
       "      <th>1</th>\n",
       "      <td>3</td>\n",
       "    </tr>\n",
       "    <tr>\n",
       "      <th>2</th>\n",
       "      <td>2</td>\n",
       "    </tr>\n",
       "    <tr>\n",
       "      <th>3</th>\n",
       "      <td>1</td>\n",
       "    </tr>\n",
       "    <tr>\n",
       "      <th>4</th>\n",
       "      <td>2</td>\n",
       "    </tr>\n",
       "    <tr>\n",
       "      <th>...</th>\n",
       "      <td>...</td>\n",
       "    </tr>\n",
       "    <tr>\n",
       "      <th>67</th>\n",
       "      <td>1</td>\n",
       "    </tr>\n",
       "    <tr>\n",
       "      <th>68</th>\n",
       "      <td>2</td>\n",
       "    </tr>\n",
       "    <tr>\n",
       "      <th>69</th>\n",
       "      <td>1</td>\n",
       "    </tr>\n",
       "    <tr>\n",
       "      <th>70</th>\n",
       "      <td>3</td>\n",
       "    </tr>\n",
       "    <tr>\n",
       "      <th>71</th>\n",
       "      <td>2</td>\n",
       "    </tr>\n",
       "  </tbody>\n",
       "</table>\n",
       "<p>72 rows × 1 columns</p>\n",
       "</div>"
      ],
      "text/plain": [
       "    Target\n",
       "0        3\n",
       "1        3\n",
       "2        2\n",
       "3        1\n",
       "4        2\n",
       "..     ...\n",
       "67       1\n",
       "68       2\n",
       "69       1\n",
       "70       3\n",
       "71       2\n",
       "\n",
       "[72 rows x 1 columns]"
      ]
     },
     "execution_count": 252,
     "metadata": {},
     "output_type": "execute_result"
    }
   ],
   "source": [
    "df_Test_out = pd.DataFrame({\"Target\":Test_out})\n",
    "\n",
    "df_Test_out = df_Test_out.round()\n",
    "\n",
    "df_Test_out.astype({\"Target\": \"Int64\"})"
   ]
  },
  {
   "cell_type": "code",
   "execution_count": 253,
   "metadata": {},
   "outputs": [],
   "source": [
    "df_Test_out_round = []"
   ]
  },
  {
   "cell_type": "code",
   "execution_count": 254,
   "metadata": {},
   "outputs": [],
   "source": [
    "for i in df_Test_out[\"Target\"]:\n",
    "    df_Test_out_round.append(int(i))"
   ]
  },
  {
   "cell_type": "code",
   "execution_count": 255,
   "metadata": {},
   "outputs": [],
   "source": [
    "df_Test_out_round = pd.DataFrame({\"Target\": df_Test_out_round})"
   ]
  },
  {
   "cell_type": "code",
   "execution_count": 256,
   "metadata": {},
   "outputs": [],
   "source": [
    "sample_submission = data_test_index.join(df_Test_out_round)"
   ]
  },
  {
   "cell_type": "code",
   "execution_count": 258,
   "metadata": {},
   "outputs": [],
   "source": [
    "sample_submission.to_csv(\"sample_submission.csv\", sep=',', index=False)"
   ]
  },
  {
   "cell_type": "code",
   "execution_count": null,
   "metadata": {},
   "outputs": [],
   "source": []
  }
 ],
 "metadata": {
  "kernelspec": {
   "display_name": "Python 3",
   "language": "python",
   "name": "python3"
  },
  "language_info": {
   "codemirror_mode": {
    "name": "ipython",
    "version": 3
   },
   "file_extension": ".py",
   "mimetype": "text/x-python",
   "name": "python",
   "nbconvert_exporter": "python",
   "pygments_lexer": "ipython3",
   "version": "3.8.5"
  }
 },
 "nbformat": 4,
 "nbformat_minor": 4
}
